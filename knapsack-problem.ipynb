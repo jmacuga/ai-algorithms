{
 "cells": [
  {
   "cell_type": "markdown",
   "metadata": {
    "id": "88lxDms-saqt"
   },
   "source": [
    "#Zadanie 1a (3 pkt)\n",
    "Celem zadania jest rozwiązanie problemu plecakowego dwoma metodami - brute force oraz według zadanej heurystyki. Należy zaimplementować metody klasy *KnapSack* - *solve_knapsack_brute_force* oraz *solve_knapsack_pw_ratio*. Poprzez rozwiązanie problemu rozumiemy podanie które przedmioty (indeksy w tablicy) należy spakować do plecaka oraz jaka jest sumaryczna wartość i masa plecaka. Punktacja wygląda następująco:\n",
    "\n",
    "\n",
    "*   Rozwiązanie problemu metodą brute force. *Podpowiedź: do wygenerowania wszystkich permutacji można użyć funkcji product z biblioteki itertools* - **1.5 pkt**\n",
    "*   Rozwiązanie problemu według heurystyki - do plecaka pakujemy przedmioty według stosunku wartości do wagi - **1 pkt**\n",
    "*   Dla metody brute force proszę wygenerować wykres zależności czasu wykonywania metody od liczby elementów w tablicach *weights* i *profits* (do obu tablic należy stopniowo dopisywać po jednym elemencie, np. 10-krotnie, wartości elementów nie mają znaczenia). Proszę również odpowiedzieć na pytania (w osobnej komórce tekstowej) - czy obie metody mają takie same rozwiązania? Jakie są Pani / Pana wnioski? - **0.5 pkt**\n",
    "\n",
    "\n"
   ]
  },
  {
   "cell_type": "code",
   "execution_count": 4,
   "metadata": {
    "colab": {
     "base_uri": "https://localhost:8080/"
    },
    "id": "1X0PiYKZ2w63",
    "outputId": "21bf4878-b9bb-4274-91c7-ee50d91355cc"
   },
   "outputs": [
    {
     "name": "stdout",
     "output_type": "stream",
     "text": [
      "/bin/bash: line 1: nvidia-smi: command not found\n"
     ]
    }
   ],
   "source": [
    "import numpy as np\n",
    "!nvidia-smi"
   ]
  },
  {
   "cell_type": "code",
   "execution_count": 5,
   "metadata": {
    "id": "_IOCNGpCuy8s"
   },
   "outputs": [],
   "source": [
    "weights = np.array([8, 3, 5, 2])\n",
    "capacity = 9\n",
    "profits = np.array([16, 8, 9, 6])"
   ]
  },
  {
   "cell_type": "code",
   "execution_count": 11,
   "metadata": {
    "id": "s5J82x9WuSOh"
   },
   "outputs": [
    {
     "name": "stdout",
     "output_type": "stream",
     "text": [
      "METODA BRUTE FORCE:\n",
      "max profit: 17\n",
      "best combination: (0, 1, 1, 0)\n",
      "best weight: 8\n",
      "METODA HEURYSTYCZNA:\n",
      "max profit: 14\n",
      "best combination: [0, 1, 0, 1]\n",
      "best weight: 5\n"
     ]
    }
   ],
   "source": [
    "import numpy as np \n",
    "import itertools\n",
    "import matplotlib.pyplot as plt\n",
    "from time import time\n",
    "\n",
    "\n",
    "class KnapSack:\n",
    "  def __init__(self, profits, weights, capacity):\n",
    "    self.profits = profits\n",
    "    self.weights = weights\n",
    "    self.capacity = capacity\n",
    "\n",
    "  def solve_knapsack_brute_force(self):\n",
    "    product = itertools.product(range(2), repeat=len(self.weights))\n",
    "    max_profit = 0\n",
    "    best_combination = []\n",
    "    best_weight = 0\n",
    "    for p in product:\n",
    "        # np.multiply\n",
    "        weight = sum(pair[0] * pair[1] for pair in zip(p, self.weights))\n",
    "        total_profit = sum(pair[0] * pair[1] for pair in zip(p, self.profits))\n",
    "        if weight < self.capacity and total_profit > max_profit:\n",
    "            max_profit, best_combination, best_weight = total_profit, p, weight \n",
    "    return (max_profit, best_combination, best_weight)\n",
    "        \n",
    "\n",
    "  def solve_knapsack_pw_ratio(self):\n",
    "    ratios = [profit / weight for profit, weight in zip(self.profits, self.weights)]\n",
    "    ratios = zip(range(len(self.weights)), ratios)\n",
    "    ratios = sorted(ratios, key= lambda ratio : ratio[1], reverse=True)\n",
    "    \n",
    "    max_profit = 0\n",
    "    best_combination = [0 for _ in range(len(self.weights))]\n",
    "    best_weight = 0\n",
    "    for item in ratios:\n",
    "        id = item[0]\n",
    "        if (self.weights[id] + best_weight ) < self.capacity:\n",
    "            best_combination[id] = 1\n",
    "            best_weight += self.weights[id] \n",
    "            max_profit += self.profits[id]\n",
    "        else:\n",
    "            return (max_profit, best_combination, best_weight)\n",
    "\n",
    "\n",
    "knap_sack = KnapSack(profits, weights, capacity)\n",
    "max_profit, best_combination, best_weight = knap_sack.solve_knapsack_brute_force()\n",
    "print( 'METODA BRUTE FORCE:')\n",
    "print( 'max profit:', max_profit)\n",
    "print( 'best combination:', best_combination)\n",
    "print( 'best weight:',  best_weight)\n",
    "\n",
    "max_profit, best_combination, best_weight = knap_sack.solve_knapsack_pw_ratio()\n",
    "print( 'METODA HEURYSTYCZNA:')\n",
    "print( 'max profit:' , max_profit)\n",
    "print( 'best combination:' , best_combination)\n",
    "print( 'best weight:',  best_weight)\n",
    "\n",
    "\n"
   ]
  },
  {
   "cell_type": "code",
   "execution_count": 10,
   "metadata": {},
   "outputs": [
    {
     "data": {
      "image/png": "[encoded data removed]",
      "text/plain": [
       "<Figure size 640x480 with 1 Axes>"
      ]
     },
     "metadata": {},
     "output_type": "display_data"
    }
   ],
   "source": [
    "def brute_force_time_plot():\n",
    "    n_array = []\n",
    "    times = []\n",
    "    for n in range(4, 20):\n",
    "        weights = np.random.randint(low=1, high=100, size=n)\n",
    "        profits = np.random.randint(low=1, high=100, size=n)\n",
    "        capacity = 50\n",
    "        knap_sack = KnapSack(profits, weights, capacity)\n",
    "        \n",
    "        start = time()\n",
    "        knap_sack.solve_knapsack_brute_force()\n",
    "        end = time()\n",
    "\n",
    "        times.append(end - start)\n",
    "        n_array.append(n)\n",
    "    plt.plot(np.array(n_array), np.array(times))\n",
    "    plt.xlabel(\"n\")\n",
    "    plt.ylabel(\"time\")\n",
    "    plt.show()\n",
    "\n",
    "\n",
    "brute_force_time_plot()\n"
   ]
  },
  {
   "cell_type": "markdown",
   "metadata": {},
   "source": [
    "Rozwiązania nie są identyczne, ponieważ algorytm heurystyczny znajduje pierwsze rozwiązanie dopuszczalne, zgodnie z regułą stodunku wartości do wagi. Algorytm brute force odnajduje wszystkie kombinacje, przez co jest w stanie znaleźć rozwiązanie optymalne ale przez wysoką złożoność obliczeniową nie sprawdza się dla większej liczby elementów. "
   ]
  }
 ],
 "metadata": {
  "accelerator": "GPU",
  "colab": {
   "provenance": []
  },
  "kernelspec": {
   "display_name": "Python 3 (ipykernel)",
   "language": "python",
   "name": "python3"
  },
  "language_info": {
   "codemirror_mode": {
    "name": "ipython",
    "version": 3
   },
   "file_extension": ".py",
   "mimetype": "text/x-python",
   "name": "python",
   "nbconvert_exporter": "python",
   "pygments_lexer": "ipython3",
   "version": "3.10.12"
  },
  "nteract": {
   "version": "nteract-front-end@1.0.0"
  }
 },
 "nbformat": 4,
 "nbformat_minor": 4
}
